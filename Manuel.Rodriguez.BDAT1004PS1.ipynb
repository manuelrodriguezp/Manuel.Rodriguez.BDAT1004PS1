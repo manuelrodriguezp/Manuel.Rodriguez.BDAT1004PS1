{
 "cells": [
  {
   "cell_type": "markdown",
   "metadata": {},
   "source": [
    "### **Question 1**"
   ]
  },
  {
   "cell_type": "code",
   "execution_count": 3,
   "metadata": {},
   "outputs": [
    {
     "name": "stdout",
     "output_type": "stream",
     "text": [
      "5 <class 'int'>\n",
      "5.0 <class 'float'>\n",
      "5 > 1 <class 'bool'>\n",
      "'5' <class 'str'>\n",
      "52 <class 'int'>\n",
      "'5' * 2 <class 'str'>\n",
      "'5'+'2' <class 'str'>\n",
      "5 / 2 <class 'float'>\n",
      "5 // 2 <class 'int'>\n",
      "[5, 2, 1] <class 'list'>\n",
      "5 in [1, 4, 6] <class 'bool'>\n",
      "math.pi <class 'float'>\n"
     ]
    }
   ],
   "source": [
    "print(5, type(5))                                   # 5 - Integer\n",
    "print(5.0, type(5.0))                               # 5.0 - float \n",
    "print('5 > 1', type(5 > 1))                         # 5 > 1 - bool\n",
    "print(\"'5'\", type('5'))                             # '5' - string\n",
    "print('52', type(52))                               # 52 - integer \n",
    "print(\"'5' * 2\", type('5' * 2))                     # '5' * 2 - string\n",
    "print(\"'5'+'2'\", type('5'+'2'))                     # '5'+'2' - string\n",
    "print('5 / 2', type(5 / 2))                         # 5 / 2 - float\n",
    "print('5 // 2', type(5 // 2))                       # 5 // 2 - integer\n",
    "print([5,2,1], type([5,2,1]))                       # [5, 2, 1] - list\n",
    "print('5 in [1, 4, 6]', type(5 in [1, 4, 6]))       # 5 in [1, 4, 6] - bool\n",
    "import math \n",
    "print('math.pi', type(math.pi))                     # math.pi - float"
   ]
  },
  {
   "cell_type": "markdown",
   "metadata": {},
   "source": [
    "### **Question 2**"
   ]
  },
  {
   "cell_type": "code",
   "execution_count": 2,
   "metadata": {},
   "outputs": [
    {
     "data": {
      "text/plain": [
       "34"
      ]
     },
     "execution_count": 2,
     "metadata": {},
     "output_type": "execute_result"
    }
   ],
   "source": [
    "# a. How many letters are there in 'Supercalifragilisticexpialidocious'?\n",
    "len('Supercalifragilisticexpialidocious')"
   ]
  },
  {
   "cell_type": "code",
   "execution_count": 3,
   "metadata": {},
   "outputs": [
    {
     "data": {
      "text/plain": [
       "True"
      ]
     },
     "execution_count": 3,
     "metadata": {},
     "output_type": "execute_result"
    }
   ],
   "source": [
    "# b. Does 'Supercalifragilisticexpialidocious' contain 'ice' as a substring? \n",
    "'ice' in 'Supercalifragilisticexpialidocious'"
   ]
  },
  {
   "cell_type": "code",
   "execution_count": 4,
   "metadata": {},
   "outputs": [
    {
     "data": {
      "text/plain": [
       "34"
      ]
     },
     "execution_count": 4,
     "metadata": {},
     "output_type": "execute_result"
    }
   ],
   "source": [
    "# c. Which of the following words is the longest: Supercalifragilisticexpialidocious, Honorificabilitudinitatibus, \n",
    "# or Bababadalgharaghtakamminarronnkonn? \n",
    "len('Supercalifragilisticexpialidocious')"
   ]
  },
  {
   "cell_type": "code",
   "execution_count": 5,
   "metadata": {},
   "outputs": [
    {
     "data": {
      "text/plain": [
       "27"
      ]
     },
     "execution_count": 5,
     "metadata": {},
     "output_type": "execute_result"
    }
   ],
   "source": [
    "len('Honorificabilitudinitatibus')"
   ]
  },
  {
   "cell_type": "code",
   "execution_count": 6,
   "metadata": {},
   "outputs": [
    {
     "data": {
      "text/plain": [
       "34"
      ]
     },
     "execution_count": 6,
     "metadata": {},
     "output_type": "execute_result"
    }
   ],
   "source": [
    "len('Bababadalgharaghtakamminarronnkonn')"
   ]
  },
  {
   "cell_type": "code",
   "execution_count": 7,
   "metadata": {},
   "outputs": [],
   "source": [
    "# Supercalifragilisticexpialidocious and Bababadalgharaghtakamminarronnkonn are the longest word, they both have 34 letters."
   ]
  },
  {
   "cell_type": "code",
   "execution_count": 8,
   "metadata": {},
   "outputs": [
    {
     "data": {
      "text/plain": [
       "['Bartok', 'Bellini', 'Berlioz', 'Bernstein', 'Borodin', 'Brian', 'Buxtehude']"
      ]
     },
     "execution_count": 8,
     "metadata": {},
     "output_type": "execute_result"
    }
   ],
   "source": [
    "# d. Which composer comes first in the dictionary: 'Berlioz', 'Borodin', 'Brian',\n",
    "# 'Bartok', 'Bellini', 'Buxtehude', 'Bernstein'. Which one comes last?\n",
    "\n",
    "lst = ['Berlioz', 'Borodin', 'Brian', 'Bartok', 'Bellini', 'Buxtehude', 'Bernstein']\n",
    "lst.sort()\n",
    "lst"
   ]
  },
  {
   "cell_type": "code",
   "execution_count": 9,
   "metadata": {},
   "outputs": [],
   "source": [
    "# The first composer in the dictionary is Bartok\n",
    "# The last composer in the dictionary is Buxtehude"
   ]
  },
  {
   "cell_type": "markdown",
   "metadata": {},
   "source": [
    "### **Question 3**"
   ]
  },
  {
   "cell_type": "code",
   "execution_count": 18,
   "metadata": {},
   "outputs": [
    {
     "name": "stdout",
     "output_type": "stream",
     "text": [
      "True\n"
     ]
    }
   ],
   "source": [
    "# a. that returns True or False depending on whether the point (x,y) lies in the rectangle with lower left corner (x1,y1) and upper right corner (x2,y2).\n",
    "\n",
    "def inside(x,y,x1,y1,x2,y2):\n",
    "    if x2 >= x >= x1 and y2 >= y >= y1:\n",
    "        print('True')\n",
    "    else:\n",
    "        print('False')\n",
    "inside(1,1,0,0,2,3)"
   ]
  },
  {
   "cell_type": "code",
   "execution_count": 13,
   "metadata": {},
   "outputs": [
    {
     "name": "stdout",
     "output_type": "stream",
     "text": [
      "False\n"
     ]
    }
   ],
   "source": [
    "inside(-1,-1,0,0,2,3)"
   ]
  },
  {
   "cell_type": "code",
   "execution_count": 14,
   "metadata": {},
   "outputs": [
    {
     "name": "stdout",
     "output_type": "stream",
     "text": [
      "False\n"
     ]
    }
   ],
   "source": [
    "# b.\n",
    "if inside(1, 1, 0.3, 0.5, 1.1, 0.7) == 'True' and inside(1, 1, 0.5, 0.2, 1.1, 2) == 'True':\n",
    "    print('true')"
   ]
  },
  {
   "cell_type": "markdown",
   "metadata": {},
   "source": [
    "### **Question 4**"
   ]
  },
  {
   "cell_type": "code",
   "execution_count": 15,
   "metadata": {},
   "outputs": [
    {
     "name": "stdout",
     "output_type": "stream",
     "text": [
      "Please enter a word: Enter\n"
     ]
    },
    {
     "data": {
      "text/plain": [
       "'enterway'"
      ]
     },
     "execution_count": 15,
     "metadata": {},
     "output_type": "execute_result"
    }
   ],
   "source": [
    "s = input('Please enter a word: ')\n",
    "def pig(s):\n",
    "    if s[0] == 'a' or s[0] == 'e' or s[0] == 'i' or s[0] == 'o' or s[0] == 'u' or s[0] == 'A' or s[0] == 'E' or s[0] == 'I' or s[0] == 'O' or s[0] == 'U':    \n",
    "        answer = s.lower() + 'way'\n",
    "    else:\n",
    "        answer = s.lower()[1:] + s.lower()[0] + 'ay'\n",
    "    return answer\n",
    "pig(s)"
   ]
  },
  {
   "cell_type": "code",
   "execution_count": 16,
   "metadata": {},
   "outputs": [
    {
     "data": {
      "text/plain": [
       "'appyhay'"
      ]
     },
     "execution_count": 16,
     "metadata": {},
     "output_type": "execute_result"
    }
   ],
   "source": [
    "pig('happy')"
   ]
  },
  {
   "cell_type": "code",
   "execution_count": 17,
   "metadata": {},
   "outputs": [
    {
     "data": {
      "text/plain": [
       "'enterway'"
      ]
     },
     "execution_count": 17,
     "metadata": {},
     "output_type": "execute_result"
    }
   ],
   "source": [
    "pig('Enter')"
   ]
  },
  {
   "cell_type": "markdown",
   "metadata": {},
   "source": [
    "### **Question 5**"
   ]
  },
  {
   "cell_type": "code",
   "execution_count": 2,
   "metadata": {},
   "outputs": [
    {
     "name": "stdout",
     "output_type": "stream",
     "text": [
      "There are 13 patients of blood type AB.\n",
      "There are 1 patient of blood type B.\n",
      "There are 15 patients of blood type O.\n",
      "There are 15 patients of blood type A.\n"
     ]
    }
   ],
   "source": [
    "def bldcount(name):\n",
    "    infile = open(name, 'r')\n",
    "    blood = infile.read()\n",
    "    blood.split()\n",
    "    counters = {}\n",
    "    for word in blood.split():\n",
    "        if word in counters:\n",
    "            counters[word] += 1\n",
    "        else:\n",
    "            counters[word] = 1\n",
    "    counters\n",
    "    for word in counters:\n",
    "        if counters[word] == 1:\n",
    "            print('There are {} patient of blood type {:1}.'.format(counters[word], word))\n",
    "        else:\n",
    "            print('There are {} patients of blood type {:1}.'.format(counters[word], word))\n",
    "bldcount('bloodtype.txt')"
   ]
  },
  {
   "cell_type": "markdown",
   "metadata": {},
   "source": [
    "### **Question 6**"
   ]
  },
  {
   "cell_type": "code",
   "execution_count": 1,
   "metadata": {},
   "outputs": [
    {
     "name": "stdout",
     "output_type": "stream",
     "text": [
      "Enter a currency: EUR\n",
      "Enter an amount: 100\n"
     ]
    },
    {
     "data": {
      "text/plain": [
       "122.96544"
      ]
     },
     "execution_count": 1,
     "metadata": {},
     "output_type": "execute_result"
    }
   ],
   "source": [
    "cur = {'AUD': 1.0345157,\n",
    " 'CHF': 1.0237414,\n",
    " 'CNY': 0.1550176,\n",
    " 'DKK': 0.1651442,\n",
    " 'EUR': 1.2296544,\n",
    " 'GBP': 1.5550989,\n",
    " 'HKD': 0.1270207,\n",
    " 'INR': 0.0177643,\n",
    " 'JPY': 0.01241401,\n",
    " 'MXN': 0.0751848,\n",
    " 'MYR': 0.3145411,\n",
    " 'NOK': 0.1677063,\n",
    " 'NZD': 0.8003591,\n",
    " 'PHP': 0.0233234,\n",
    " 'SEK': 0.148269,\n",
    " 'SGD': 0.788871,\n",
    " 'THB': 0.0313789}\n",
    "currency = input('Enter a currency: ')\n",
    "amount = input('Enter an amount: ')\n",
    "def curconv(currency, amount):\n",
    "    if currency in cur:\n",
    "        convert = int(amount) * cur[currency]\n",
    "        return convert\n",
    "    else:\n",
    "        print('The currency you entered is not on the list.')\n",
    "        \n",
    "curconv(currency, amount)"
   ]
  },
  {
   "cell_type": "code",
   "execution_count": 2,
   "metadata": {},
   "outputs": [
    {
     "data": {
      "text/plain": [
       "122.96544"
      ]
     },
     "execution_count": 2,
     "metadata": {},
     "output_type": "execute_result"
    }
   ],
   "source": [
    "curconv('EUR', 100)"
   ]
  },
  {
   "cell_type": "code",
   "execution_count": 3,
   "metadata": {},
   "outputs": [
    {
     "data": {
      "text/plain": [
       "1.241401"
      ]
     },
     "execution_count": 3,
     "metadata": {},
     "output_type": "execute_result"
    }
   ],
   "source": [
    "curconv('JPY', 100)"
   ]
  },
  {
   "cell_type": "markdown",
   "metadata": {},
   "source": [
    "### **Question 7**"
   ]
  },
  {
   "cell_type": "code",
   "execution_count": 4,
   "metadata": {},
   "outputs": [],
   "source": [
    "# a. Trying to add incompatible variables, as in adding 6 + ‘a’\n",
    "#    Syntax error: invalid character in identifier\n",
    "# b. Referring to the 12th item of a list that has only 10 items\n",
    "#    Erroneous state error - IndexError: list index out of range\n",
    "# c. Using a value that is out of range for a function’s input, such as calling math.sqrt(-1.0)\n",
    "#    Erroneous state error - TypeError: sqrt() takes exactly one argument (2 given)\n",
    "# d. Using an undeclared variable, such as print(x) when x has not been defined \n",
    "#    Erroneous state error - NameError: name 'x' is not defined\n",
    "# e. Trying to open a file that does not exist, such as mistyping the file name or looking in the wrong directory.\n",
    "#    Erroneous state error - NameError: name is not defined"
   ]
  },
  {
   "cell_type": "markdown",
   "metadata": {},
   "source": [
    "### **Question 8**"
   ]
  },
  {
   "cell_type": "code",
   "execution_count": 2,
   "metadata": {},
   "outputs": [
    {
     "data": {
      "text/plain": [
       "[1, 1, 1, 3, 5, 1, 1, 2, 1, 0, 1, 0, 1, 2, 4, 0, 1, 2, 0, 3, 1, 0, 1, 1, 0, 0]"
      ]
     },
     "execution_count": 2,
     "metadata": {},
     "output_type": "execute_result"
    }
   ],
   "source": [
    "def frequencies(s):\n",
    "    letters = 'abcdefghijklmnopqrstuvwxyz'\n",
    "    counter = []\n",
    "    for i in range (0,26):\n",
    "        a = s.lower()\n",
    "        counter.append(a.count(letters[i]))\n",
    "    return counter     \n",
    "frequencies('The quick red fox got bored and went home.')"
   ]
  },
  {
   "cell_type": "code",
   "execution_count": 6,
   "metadata": {},
   "outputs": [
    {
     "data": {
      "text/plain": [
       "[1, 0, 0, 0, 1, 0, 0, 0, 0, 0, 0, 1, 0, 0, 0, 2, 0, 0, 0, 0, 0, 0, 0, 0, 0, 0]"
      ]
     },
     "execution_count": 6,
     "metadata": {},
     "output_type": "execute_result"
    }
   ],
   "source": [
    "frequencies('apple')"
   ]
  },
  {
   "cell_type": "markdown",
   "metadata": {},
   "source": [
    "### **Question 9**"
   ]
  },
  {
   "cell_type": "code",
   "execution_count": 8,
   "metadata": {},
   "outputs": [
    {
     "name": "stdout",
     "output_type": "stream",
     "text": [
      "Enter a positive number: 25\n"
     ]
    },
    {
     "data": {
      "text/plain": [
       "[2, 3, 5, 7, 11, 13, 17, 19, 23]"
      ]
     },
     "execution_count": 8,
     "metadata": {},
     "output_type": "execute_result"
    }
   ],
   "source": [
    "n = int(input('Enter a positive number: '))\n",
    "def sieve(n):\n",
    "    L = []\n",
    "    for i in range(2, n+1):\n",
    "        L.append(i)\n",
    "        primeL = []\n",
    "    while sum(L) > 0:\n",
    "        a = L[0]\n",
    "        i = a\n",
    "        primeL.append(a)\n",
    "        while i <= n:\n",
    "            if i in L:\n",
    "                L.remove(i)\n",
    "                i += a\n",
    "            else:\n",
    "                i += a\n",
    "    return primeL\n",
    "sieve(n)\n"
   ]
  },
  {
   "cell_type": "code",
   "execution_count": 9,
   "metadata": {},
   "outputs": [
    {
     "data": {
      "text/plain": [
       "[2, 3, 5, 7, 11, 13, 17, 19, 23, 29, 31, 37, 41, 43, 47, 53]"
      ]
     },
     "execution_count": 9,
     "metadata": {},
     "output_type": "execute_result"
    }
   ],
   "source": [
    "sieve(56)"
   ]
  },
  {
   "cell_type": "code",
   "execution_count": 10,
   "metadata": {},
   "outputs": [
    {
     "data": {
      "text/plain": [
       "[2,\n",
       " 3,\n",
       " 5,\n",
       " 7,\n",
       " 11,\n",
       " 13,\n",
       " 17,\n",
       " 19,\n",
       " 23,\n",
       " 29,\n",
       " 31,\n",
       " 37,\n",
       " 41,\n",
       " 43,\n",
       " 47,\n",
       " 53,\n",
       " 59,\n",
       " 61,\n",
       " 67,\n",
       " 71,\n",
       " 73,\n",
       " 79,\n",
       " 83,\n",
       " 89,\n",
       " 97,\n",
       " 101,\n",
       " 103,\n",
       " 107,\n",
       " 109,\n",
       " 113,\n",
       " 127,\n",
       " 131,\n",
       " 137,\n",
       " 139,\n",
       " 149,\n",
       " 151,\n",
       " 157,\n",
       " 163,\n",
       " 167,\n",
       " 173,\n",
       " 179,\n",
       " 181,\n",
       " 191,\n",
       " 193,\n",
       " 197,\n",
       " 199,\n",
       " 211,\n",
       " 223,\n",
       " 227,\n",
       " 229,\n",
       " 233,\n",
       " 239,\n",
       " 241,\n",
       " 251,\n",
       " 257,\n",
       " 263,\n",
       " 269,\n",
       " 271,\n",
       " 277,\n",
       " 281,\n",
       " 283,\n",
       " 293,\n",
       " 307,\n",
       " 311,\n",
       " 313,\n",
       " 317,\n",
       " 331,\n",
       " 337,\n",
       " 347,\n",
       " 349,\n",
       " 353,\n",
       " 359,\n",
       " 367]"
      ]
     },
     "execution_count": 10,
     "metadata": {},
     "output_type": "execute_result"
    }
   ],
   "source": [
    "sieve(368)"
   ]
  },
  {
   "cell_type": "code",
   "execution_count": 11,
   "metadata": {},
   "outputs": [
    {
     "data": {
      "text/plain": [
       "[2, 3, 5, 7, 11, 13, 17, 19, 23, 29, 31]"
      ]
     },
     "execution_count": 11,
     "metadata": {},
     "output_type": "execute_result"
    }
   ],
   "source": [
    "sieve(32)"
   ]
  },
  {
   "cell_type": "markdown",
   "metadata": {},
   "source": [
    "### **Question 10**"
   ]
  },
  {
   "cell_type": "code",
   "execution_count": 13,
   "metadata": {},
   "outputs": [
    {
     "name": "stdout",
     "output_type": "stream",
     "text": [
      "Enter first side of a triangle: 2\n",
      "Enter second side of a triangle: 2\n",
      "Enter third side of a triangle: 2\n"
     ]
    },
    {
     "data": {
      "text/plain": [
       "1.7320508075688772"
      ]
     },
     "execution_count": 13,
     "metadata": {},
     "output_type": "execute_result"
    }
   ],
   "source": [
    "a = int(input('Enter first side of a triangle: '))\n",
    "b = int(input('Enter second side of a triangle: '))\n",
    "c = int(input('Enter third side of a triangle: '))\n",
    "def  triangleArea(a,b,c):\n",
    "    import math\n",
    "    s = (a + b + c)/2\n",
    "    area = math.sqrt(s*(s-a)*(s-b)*(s-c))\n",
    "    return area\n",
    "triangleArea(a,b,c)"
   ]
  },
  {
   "cell_type": "code",
   "execution_count": 14,
   "metadata": {},
   "outputs": [
    {
     "data": {
      "text/plain": [
       "1.7320508075688772"
      ]
     },
     "execution_count": 14,
     "metadata": {},
     "output_type": "execute_result"
    }
   ],
   "source": [
    "triangleArea(2,2,2)"
   ]
  },
  {
   "cell_type": "code",
   "execution_count": null,
   "metadata": {},
   "outputs": [],
   "source": []
  }
 ],
 "metadata": {
  "kernelspec": {
   "display_name": "Python 3",
   "language": "python",
   "name": "python3"
  },
  "language_info": {
   "codemirror_mode": {
    "name": "ipython",
    "version": 3
   },
   "file_extension": ".py",
   "mimetype": "text/x-python",
   "name": "python",
   "nbconvert_exporter": "python",
   "pygments_lexer": "ipython3",
   "version": "3.7.6"
  }
 },
 "nbformat": 4,
 "nbformat_minor": 4
}
